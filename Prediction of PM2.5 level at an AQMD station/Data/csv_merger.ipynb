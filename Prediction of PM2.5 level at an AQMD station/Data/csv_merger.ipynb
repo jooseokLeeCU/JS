{
 "cells": [
  {
   "cell_type": "markdown",
   "id": "ac900192",
   "metadata": {},
   "source": [
    "### Description\n",
    "\n",
    "- This code merges csv files into one csv file for each station\n",
    "- Source data structure: Station(folder) -> Substance(subfolder) -> Data for a certain period (CSV files)\n",
    "- Output data strcture: Combined CSV files for each station"
   ]
  },
  {
   "cell_type": "code",
   "execution_count": 1,
   "id": "3ecf6419",
   "metadata": {},
   "outputs": [],
   "source": [
    "# Import Libraries\n",
    "import pandas as pd\n",
    "import os\n",
    "import glob\n",
    "import re"
   ]
  },
  {
   "cell_type": "code",
   "execution_count": 2,
   "id": "29eb8462",
   "metadata": {},
   "outputs": [
    {
     "data": {
      "text/plain": [
       "['Central San Bernardino',\n",
       " 'Temecula',\n",
       " 'Central LA',\n",
       " '.DS_Store',\n",
       " 'Mira Loma',\n",
       " 'Reseda',\n",
       " 'Upland',\n",
       " 'Santa Clarita',\n",
       " 'Banning',\n",
       " 'Lake Elsinore',\n",
       " 'Glendora']"
      ]
     },
     "execution_count": 2,
     "metadata": {},
     "output_type": "execute_result"
    }
   ],
   "source": [
    "# Get folder list\n",
    "data_dir = r'Source'\n",
    "sub_folders = os.listdir(data_dir)\n",
    "sub_folders"
   ]
  },
  {
   "cell_type": "code",
   "execution_count": 4,
   "id": "3f366828",
   "metadata": {},
   "outputs": [],
   "source": [
    "# For each folder, combine the csv files into one csv file\n",
    "for station in sub_folders:\n",
    "    # If folder name is '.DS_Store', skip the loop\n",
    "    if station in ['.DS_Store', 'csv_file_merger']:\n",
    "        continue\n",
    "    \n",
    "    # Get a list of subfolders for each folder (or each station)\n",
    "    station_path = os.path.join(data_dir, station)\n",
    "    materials = os.listdir(station_path)\n",
    "    \n",
    "    # Flag variable for checking whether current loop is the first one\n",
    "    cnt2 = 0\n",
    "    \n",
    "    # Loop over subfolders in each folder\n",
    "    for material in materials:\n",
    "        # Skip the loop if subfolder name is '.DS_Store' or 'csv_file_merger'\n",
    "        if station in ['.DS_Store', 'csv_file_merger']:\n",
    "            continue\n",
    "        \n",
    "        # Get a list of csv files for each subfolder (or substance)\n",
    "        material_path = os.path.join(station_path, material)\n",
    "        all_files = glob.glob(material_path + '/*.csv')\n",
    "\n",
    "        if len(all_files)==0:\n",
    "            continue\n",
    "        \n",
    "        # Flag variable for checking whether current loop is the first one\n",
    "        cnt = 0\n",
    "        \n",
    "        # Loop over csv files for each subfolder and merge csv files into one csv file for each substance (or subfolder)\n",
    "        for filename in all_files:\n",
    "            if cnt == 0:\n",
    "                df = pd.read_csv(filename, on_bad_lines='skip').iloc[:, 0:3].rename(columns={\"Value\": material})\n",
    "            else:\n",
    "                df_new = pd.read_csv(filename, on_bad_lines='skip').iloc[:, 0:3].rename(columns={\"Value\": material})\n",
    "                df = pd.concat([df, df_new], axis=0)\n",
    "            cnt+=1\n",
    "        \n",
    "        # Merge csv files into one csv file for each station (or folder)\n",
    "        if cnt2 == 0:\n",
    "            df_st = df\n",
    "        else:\n",
    "            df_st=pd.merge(df_st, df, on=['Date Time', 'Site Name'])\n",
    "    \n",
    "        cnt2+=1\n",
    "    \n",
    "    # Save final results\n",
    "    df_st['Date Time'] = pd.to_datetime(df_st['Date Time'])\n",
    "    df_st = df_st.sort_values(by='Date Time')\n",
    "    df_st.to_csv(data_dir + '/output/' + station.replace(' ', '_') + '.csv', index=False)"
   ]
  },
  {
   "cell_type": "code",
   "execution_count": null,
   "id": "d9d708a8",
   "metadata": {},
   "outputs": [],
   "source": []
  }
 ],
 "metadata": {
  "kernelspec": {
   "display_name": "Python 3 (ipykernel)",
   "language": "python",
   "name": "python3"
  },
  "language_info": {
   "codemirror_mode": {
    "name": "ipython",
    "version": 3
   },
   "file_extension": ".py",
   "mimetype": "text/x-python",
   "name": "python",
   "nbconvert_exporter": "python",
   "pygments_lexer": "ipython3",
   "version": "3.9.12"
  }
 },
 "nbformat": 4,
 "nbformat_minor": 5
}
